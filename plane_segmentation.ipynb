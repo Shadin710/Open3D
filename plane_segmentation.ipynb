{
 "cells": [
  {
   "cell_type": "code",
   "execution_count": 62,
   "metadata": {},
   "outputs": [],
   "source": [
    "import open3d as o3d\n",
    "import numpy as np\n",
    "import os\n",
    "import sys\n",
    "\n",
    "sys.path.append('..')\n",
    "import open3d_tutorial as o3dtut\n",
    "o3dtut.interactive  = not 'CI' in os.environ"
   ]
  },
  {
   "cell_type": "code",
   "execution_count": 63,
   "metadata": {},
   "outputs": [],
   "source": [
    "demo_data = o3d.data.DemoCropPointCloud()"
   ]
  },
  {
   "cell_type": "code",
   "execution_count": 64,
   "metadata": {},
   "outputs": [
    {
     "data": {
      "text/plain": [
       "PointCloud with 196133 points."
      ]
     },
     "execution_count": 64,
     "metadata": {},
     "output_type": "execute_result"
    }
   ],
   "source": [
    "pcd = o3d.io.read_point_cloud(demo_data.point_cloud_path)\n",
    "pcd"
   ]
  },
  {
   "cell_type": "code",
   "execution_count": 65,
   "metadata": {},
   "outputs": [
    {
     "data": {
      "text/plain": [
       "array([-2.15676815e-03,  9.99733736e-01,  2.29739959e-02, -2.42906299e+00])"
      ]
     },
     "execution_count": 65,
     "metadata": {},
     "output_type": "execute_result"
    }
   ],
   "source": [
    "plane_model,inliners = pcd.segment_plane(distance_threshold=0.01,\n",
    "                                        ransac_n=3,\n",
    "                                        num_iterations=1000)\n",
    "plane_model"
   ]
  },
  {
   "cell_type": "code",
   "execution_count": 66,
   "metadata": {},
   "outputs": [
    {
     "data": {
      "text/plain": [
       "41328"
      ]
     },
     "execution_count": 66,
     "metadata": {},
     "output_type": "execute_result"
    }
   ],
   "source": [
    "len(inliners)"
   ]
  },
  {
   "cell_type": "code",
   "execution_count": 67,
   "metadata": {},
   "outputs": [],
   "source": [
    "inliner_cloud = pcd.select_by_index(inliners)"
   ]
  },
  {
   "cell_type": "code",
   "execution_count": 68,
   "metadata": {},
   "outputs": [],
   "source": [
    "inliner_cloud.paint_uniform_color([1.0,0,0])\n",
    "outlier_cloud = pcd.select_by_index(inliners, invert=True)\n",
    "o3d.visualization.draw_geometries([inliner_cloud])"
   ]
  },
  {
   "cell_type": "code",
   "execution_count": 69,
   "metadata": {},
   "outputs": [],
   "source": [
    "vol = o3d.visualization.read_selection_polygon_volume(demo_data.cropped_json_path)\n"
   ]
  },
  {
   "cell_type": "code",
   "execution_count": 70,
   "metadata": {},
   "outputs": [],
   "source": [
    "chair = vol.crop_point_cloud(outlier_cloud)\n"
   ]
  },
  {
   "cell_type": "code",
   "execution_count": 71,
   "metadata": {},
   "outputs": [],
   "source": [
    "chair = chair.voxel_down_sample(voxel_size=0.05)"
   ]
  },
  {
   "cell_type": "code",
   "execution_count": 72,
   "metadata": {},
   "outputs": [],
   "source": [
    "o3d.visualization.draw_geometries([chair])"
   ]
  },
  {
   "cell_type": "code",
   "execution_count": 26,
   "metadata": {},
   "outputs": [],
   "source": [
    "o3d.visualization.draw_geometries([outlier_cloud])"
   ]
  },
  {
   "cell_type": "code",
   "execution_count": 27,
   "metadata": {},
   "outputs": [],
   "source": [
    "new_plane_model,new_inliners = outlier_cloud.segment_plane(distance_threshold=0.01,ransac_n=3,num_iterations=1000)"
   ]
  },
  {
   "cell_type": "code",
   "execution_count": 28,
   "metadata": {},
   "outputs": [],
   "source": [
    "new_inliners_cloud = outlier_cloud.select_by_index(new_inliners)"
   ]
  },
  {
   "cell_type": "code",
   "execution_count": 33,
   "metadata": {},
   "outputs": [
    {
     "name": "stdout",
     "output_type": "stream",
     "text": [
      "[Open3D WARNING] GLFW Error: WGL: Failed to make context current: The requested transformation operation is not supported. \n"
     ]
    }
   ],
   "source": [
    "new_inliners_cloud.paint_uniform_color([0,1.0,0])\n",
    "new_outlier_cloud = outlier_cloud.select_by_index(new_inliners, invert=True)\n",
    "o3d.visualization.draw_geometries([new_outlier_cloud])"
   ]
  },
  {
   "cell_type": "code",
   "execution_count": null,
   "metadata": {},
   "outputs": [],
   "source": []
  }
 ],
 "metadata": {
  "interpreter": {
   "hash": "fa0143f9c29f8c9e8f8a335d30e012e236d29d51dc9529c9c2cfa56891005d30"
  },
  "kernelspec": {
   "display_name": "Python 3.9.0 ('open3d': venv)",
   "language": "python",
   "name": "python3"
  },
  "language_info": {
   "codemirror_mode": {
    "name": "ipython",
    "version": 3
   },
   "file_extension": ".py",
   "mimetype": "text/x-python",
   "name": "python",
   "nbconvert_exporter": "python",
   "pygments_lexer": "ipython3",
   "version": "3.9.0"
  },
  "orig_nbformat": 4
 },
 "nbformat": 4,
 "nbformat_minor": 2
}
