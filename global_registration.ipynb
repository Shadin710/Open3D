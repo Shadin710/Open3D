{
 "cells": [
  {
   "cell_type": "code",
   "execution_count": 1,
   "metadata": {},
   "outputs": [
    {
     "name": "stdout",
     "output_type": "stream",
     "text": [
      "Jupyter environment detected. Enabling Open3D WebVisualizer.\n",
      "[Open3D INFO] WebRTC GUI backend enabled.\n",
      "[Open3D INFO] WebRTCWindowSystem: HTTP handshake server disabled.\n"
     ]
    }
   ],
   "source": [
    "import open3d as o3d\n",
    "import numpy as np\n",
    "import os\n",
    "import sys\n",
    "import copy\n",
    "import time\n",
    "sys.path.append('..')\n",
    "import open3d_tutorial as o3dtut\n",
    "o3dtut.interactive  = not 'CI' in os.environ"
   ]
  },
  {
   "cell_type": "code",
   "execution_count": 26,
   "metadata": {},
   "outputs": [],
   "source": [
    "def draw_result(source,target,transformation):\n",
    "    source_temp =copy.deepcopy(source)\n",
    "    target_temp = copy.deepcopy(target)\n",
    "    # source_temp.paint_uniform_color([1,0,1])\n",
    "    # target_temp.paint_uniform_color([0,1,0])\n",
    "    source_temp.transform(transformation)\n",
    "    o3d.visualization.draw_geometries([source_temp,target_temp])\n",
    "\n"
   ]
  },
  {
   "cell_type": "code",
   "execution_count": 12,
   "metadata": {},
   "outputs": [],
   "source": [
    "def pre_process_point_cloud(pcd,voxel_size=0.05):\n",
    "    radius_normal = voxel_size*2\n",
    "    radius_feature = voxel_size*5\n",
    "    pcd_down =pcd.voxel_down_sample(voxel_size)\n",
    "    pcd_down.estimate_normals(\n",
    "        search_param = o3d.geometry.KDTreeSearchParamHybrid(radius = radius_normal,max_nn=30)\n",
    "    )\n",
    "\n",
    "    # Extracting the feature from 3d mesh\n",
    "    pcd_fpfh = o3d.pipelines.registration.compute_fpfh_feature(\n",
    "        pcd_down,\n",
    "        o3d.geometry.KDTreeSearchParamHybrid(radius=radius_feature,max_nn=100)\n",
    "    )\n",
    "    return pcd_down,pcd_fpfh\n",
    "\n"
   ]
  },
  {
   "cell_type": "code",
   "execution_count": 10,
   "metadata": {},
   "outputs": [],
   "source": [
    "def prepare_dataset(voxel_size=0.05):\n",
    "    source = o3d.io.read_point_cloud('./data/pcd/cloud_bin_0.pcd')\n",
    "    target =o3d.io.read_point_cloud('./data/pcd/cloud_bin_1.pcd')\n",
    "    trans_init = np.identity(4)\n",
    "    source.transform(trans_init)\n",
    "    draw_result(source=source,target=target,transformation=np.identity(4))\n",
    "\n",
    "    source_down,source_fpfh = pre_process_point_cloud(source)\n",
    "    target_down,target_fpfh = pre_process_point_cloud(target)\n",
    "\n",
    "    return source,target,source_down,target_down, source_fpfh,target_fpfh\n",
    "    "
   ]
  },
  {
   "cell_type": "code",
   "execution_count": 14,
   "metadata": {},
   "outputs": [],
   "source": [
    "source,target,source_down,target_down, source_fpfh,target_fpfh = prepare_dataset()\n"
   ]
  },
  {
   "cell_type": "code",
   "execution_count": 15,
   "metadata": {},
   "outputs": [],
   "source": [
    "def execute_global_registration(source_down,target_down,source_fpfh,target_fpfh,voxel_size=0.05):\n",
    "    distance_threshold  =voxel_size*1.5\n",
    "\n",
    "    result = o3d.pipelines.registration.registration_ransac_based_on_feature_matching(\n",
    "        source_down,target_down,source_fpfh,target_fpfh,True,distance_threshold,o3d.pipelines.registration.TransformationEstimationPointToPoint(False),3,[\n",
    "            o3d.pipelines.registration.CorrespondenceCheckerBasedOnEdgeLength(0.9),\n",
    "            o3d.pipelines.registration.CorrespondenceCheckerBasedOnDistance(distance_threshold)\n",
    "\n",
    "        ],\n",
    "        o3d.pipelines.registration.RANSACConvergenceCriteria(100000)\n",
    "    )\n",
    "    return result"
   ]
  },
  {
   "cell_type": "code",
   "execution_count": 16,
   "metadata": {},
   "outputs": [],
   "source": [
    "result_ransac = execute_global_registration(source_down=source_down,target_down=target_down,source_fpfh=source_fpfh,target_fpfh=target_fpfh)"
   ]
  },
  {
   "cell_type": "code",
   "execution_count": 17,
   "metadata": {},
   "outputs": [
    {
     "name": "stdout",
     "output_type": "stream",
     "text": [
      "RegistrationResult with fitness=6.716387e-01, inlier_rmse=3.118043e-02, and correspondence_set size of 3197\n",
      "Access transformation to get result.\n",
      "[Open3D WARNING] GLFW Error: WGL: Failed to make context current: The requested transformation operation is not supported. \n",
      "[Open3D WARNING] GLFW Error: WGL: Failed to make context current: The requested transformation operation is not supported. \n",
      "[Open3D WARNING] GLFW Error: WGL: Failed to make context current: The requested transformation operation is not supported. \n",
      "[Open3D WARNING] GLFW Error: WGL: Failed to make context current: The handle is invalid. \n"
     ]
    }
   ],
   "source": [
    "print(result_ransac)\n",
    "draw_result(source_down,target_down,result_ransac.transformation)"
   ]
  },
  {
   "cell_type": "markdown",
   "metadata": {},
   "source": [
    "# Local Registration"
   ]
  },
  {
   "cell_type": "code",
   "execution_count": 22,
   "metadata": {},
   "outputs": [],
   "source": [
    "def local_refinement(source,target,voxel_size=0.05):\n",
    "    distance_threshold = voxel_size*0.4\n",
    "    result = o3d.pipelines.registration.registration_icp(\n",
    "        source,target,distance_threshold,result_ransac.transformation,\n",
    "        o3d.pipelines.registration.TransformationEstimationPointToPlane()\n",
    "    )\n",
    "    return result"
   ]
  },
  {
   "cell_type": "code",
   "execution_count": 23,
   "metadata": {},
   "outputs": [],
   "source": [
    "refined_result = local_refinement(source,target)"
   ]
  },
  {
   "cell_type": "code",
   "execution_count": 27,
   "metadata": {},
   "outputs": [
    {
     "name": "stdout",
     "output_type": "stream",
     "text": [
      "RegistrationResult with fitness=6.210275e-01, inlier_rmse=6.565173e-03, and correspondence_set size of 123482\n",
      "Access transformation to get result.\n",
      "[Open3D WARNING] GLFW Error: WGL: Failed to make context current: The handle is invalid. \n",
      "[Open3D WARNING] [ViewControl] SetViewPoint() failed because window height and width are not set.\n"
     ]
    }
   ],
   "source": [
    "print(refined_result)\n",
    "draw_result(source,target,refined_result.transformation)"
   ]
  },
  {
   "cell_type": "code",
   "execution_count": null,
   "metadata": {},
   "outputs": [],
   "source": []
  }
 ],
 "metadata": {
  "interpreter": {
   "hash": "fa0143f9c29f8c9e8f8a335d30e012e236d29d51dc9529c9c2cfa56891005d30"
  },
  "kernelspec": {
   "display_name": "Python 3.9.0 ('open3d': venv)",
   "language": "python",
   "name": "python3"
  },
  "language_info": {
   "codemirror_mode": {
    "name": "ipython",
    "version": 3
   },
   "file_extension": ".py",
   "mimetype": "text/x-python",
   "name": "python",
   "nbconvert_exporter": "python",
   "pygments_lexer": "ipython3",
   "version": "3.9.0"
  },
  "orig_nbformat": 4
 },
 "nbformat": 4,
 "nbformat_minor": 2
}
