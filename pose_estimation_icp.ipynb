{
 "cells": [
  {
   "cell_type": "code",
   "execution_count": 6,
   "metadata": {},
   "outputs": [],
   "source": [
    "import open3d as o3d\n",
    "import numpy as np\n",
    "import sys\n",
    "import os\n",
    "import copy\n",
    "sys.path.append('..')\n",
    "import open3d_tutorial as o3dtut\n",
    "o3dtut.interactive= not 'CI' in os.environ\n"
   ]
  },
  {
   "cell_type": "code",
   "execution_count": 2,
   "metadata": {},
   "outputs": [],
   "source": [
    "demo_data = o3d.data.DemoCropPointCloud()"
   ]
  },
  {
   "cell_type": "code",
   "execution_count": 9,
   "metadata": {},
   "outputs": [],
   "source": [
    "def ICP(source,target,transformation):\n",
    "    source_temp =copy.deepcopy(source)\n",
    "    target_temp =copy.deepcopy(target)\n",
    "    source_temp.paint_uniform_color([1,0.7,0])\n",
    "    target_temp.paint_uniform_color([0,1.7,0.7])\n",
    "    source_temp.transform(transformation)\n",
    "\n",
    "    o3d.visualization.draw_geometries([source_temp,target_temp])\n"
   ]
  },
  {
   "cell_type": "code",
   "execution_count": 18,
   "metadata": {},
   "outputs": [
    {
     "name": "stdout",
     "output_type": "stream",
     "text": [
      "[Open3D WARNING] invalid color in PaintUniformColor, clipping to [0, 1]\n"
     ]
    }
   ],
   "source": [
    "source =o3d.io.read_point_cloud(demo_data.point_cloud_path)\n",
    "target = o3d.io.read_point_cloud(demo_data.point_cloud_path)\n",
    "threshold=0.2\n",
    "trans_init = np.asarray([[0.862, 0.011, -0.507, 0.5],\n",
    "                         [-0.139, 0.967, -0.215, 0.7],\n",
    "                         [0.487, 0.255, 0.835, -1.4], [0.0, 0.0, 0.0, 1.0]])\n",
    "ICP(source,target,trans_init)"
   ]
  },
  {
   "cell_type": "code",
   "execution_count": 17,
   "metadata": {},
   "outputs": [
    {
     "name": "stdout",
     "output_type": "stream",
     "text": [
      "Inline Alignment\n",
      "RegistrationResult with fitness=5.550570e-01, inlier_rmse=1.070000e-01, and correspondence_set size of 108865\n",
      "Access transformation to get result.\n"
     ]
    }
   ],
   "source": [
    "print(\"Inline Alignment\")\n",
    "evalution =o3d.pipelines.registration.evaluate_registration(source,target,threshold,trans_init)\n",
    "print(evalution)"
   ]
  },
  {
   "cell_type": "code",
   "execution_count": 19,
   "metadata": {},
   "outputs": [
    {
     "name": "stdout",
     "output_type": "stream",
     "text": [
      "Applying Point-to-Point ICP\n",
      "RegistrationResult with fitness=8.600185e-01, inlier_rmse=8.326683e-02, and correspondence_set size of 168678\n",
      "Access transformation to get result.\n",
      "Transformation is: \n",
      "[[ 0.99087272  0.01540784 -0.13265069 -0.00701575]\n",
      " [-0.01461294  0.99994268  0.01198974  0.03104075]\n",
      " [ 0.13225622 -0.01059392  0.99134204 -0.32848701]\n",
      " [ 0.          0.          0.          1.        ]]\n",
      "[Open3D WARNING] invalid color in PaintUniformColor, clipping to [0, 1]\n",
      "[Open3D WARNING] GLFW Error: WGL: Failed to make context current: The requested transformation operation is not supported. \n",
      "[Open3D WARNING] GLFW Error: WGL: Failed to make context current: The handle is invalid. \n",
      "[Open3D WARNING] GLFW Error: WGL: Failed to make context current: The handle is invalid. \n",
      "[Open3D WARNING] GLFW Error: WGL: Failed to make context current: The requested transformation operation is not supported. \n",
      "[Open3D WARNING] GLFW Error: WGL: Failed to make context current: The requested transformation operation is not supported. \n"
     ]
    }
   ],
   "source": [
    "print(\"Applying Point-to-Point ICP\")\n",
    "reg2pip = o3d.pipelines.registration.registration_icp(source,target,threshold,trans_init,o3d.pipelines.registration.TransformationEstimationPointToPoint())\n",
    "print(reg2pip)\n",
    "print(\"Transformation is: \")\n",
    "print(reg2pip.transformation)\n",
    "ICP(source,target,reg2pip.transformation)"
   ]
  },
  {
   "cell_type": "markdown",
   "metadata": {},
   "source": [
    "## Changing the maximum number of iteration"
   ]
  },
  {
   "cell_type": "code",
   "execution_count": 23,
   "metadata": {},
   "outputs": [
    {
     "name": "stdout",
     "output_type": "stream",
     "text": [
      "Applying to point-to-point ICP: \n",
      "RegistrationResult with fitness=1.000000e+00, inlier_rmse=3.551191e-03, and correspondence_set size of 196133\n",
      "Access transformation to get result.\n",
      "Tranformation Matrix: \n",
      "[[ 9.99766953e-01 -9.45072252e-04 -5.03828504e-04 -2.37788272e-03]\n",
      " [ 1.98828533e-04  1.00011674e+00  2.27523632e-04 -1.01727557e-03]\n",
      " [-3.34066754e-07 -7.84830676e-04  1.00024932e+00  1.74520140e-03]\n",
      " [ 0.00000000e+00  0.00000000e+00  0.00000000e+00  1.00000000e+00]]\n",
      "[Open3D WARNING] invalid color in PaintUniformColor, clipping to [0, 1]\n",
      "[Open3D WARNING] GLFW Error: WGL: Failed to make context current: The requested transformation operation is not supported. \n",
      "[Open3D WARNING] GLFW Error: WGL: Failed to make context current: The handle is invalid. \n",
      "[Open3D WARNING] GLFW Error: WGL: Failed to make context current: The requested transformation operation is not supported. \n",
      "[Open3D WARNING] GLFW Error: WGL: Failed to make context current: The handle is invalid. \n",
      "[Open3D WARNING] GLFW Error: WGL: Failed to make context current: The requested transformation operation is not supported. \n"
     ]
    }
   ],
   "source": [
    "print(\"Applying to point-to-point ICP: \")\n",
    "reg2pip = o3d.pipelines.registration.registration_icp(source,target,threshold,trans_init,o3d.pipelines.registration.TransformationEstimationPointToPoint(),o3d.pipelines.registration.ICPConvergenceCriteria(max_iteration=4000))\n",
    "print(reg2pip)\n",
    "print(\"Tranformation Matrix: \")\n",
    "print(reg2pip.transformation)\n",
    "ICP(source,target,reg2pip.transformation)"
   ]
  },
  {
   "cell_type": "code",
   "execution_count": null,
   "metadata": {},
   "outputs": [],
   "source": []
  }
 ],
 "metadata": {
  "interpreter": {
   "hash": "fa0143f9c29f8c9e8f8a335d30e012e236d29d51dc9529c9c2cfa56891005d30"
  },
  "kernelspec": {
   "display_name": "Python 3.9.0 ('open3d': venv)",
   "language": "python",
   "name": "python3"
  },
  "language_info": {
   "codemirror_mode": {
    "name": "ipython",
    "version": 3
   },
   "file_extension": ".py",
   "mimetype": "text/x-python",
   "name": "python",
   "nbconvert_exporter": "python",
   "pygments_lexer": "ipython3",
   "version": "3.9.0"
  },
  "orig_nbformat": 4
 },
 "nbformat": 4,
 "nbformat_minor": 2
}
