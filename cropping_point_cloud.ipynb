{
 "cells": [
  {
   "cell_type": "code",
   "execution_count": 1,
   "metadata": {},
   "outputs": [
    {
     "name": "stdout",
     "output_type": "stream",
     "text": [
      "Jupyter environment detected. Enabling Open3D WebVisualizer.\n",
      "[Open3D INFO] WebRTC GUI backend enabled.\n",
      "[Open3D INFO] WebRTCWindowSystem: HTTP handshake server disabled.\n"
     ]
    }
   ],
   "source": [
    "import open3d as o3d\n",
    "import numpy as np\n",
    "import os\n",
    "import sys\n",
    "\n",
    "sys.path.append('..')\n",
    "import open3d_tutorial as o3dtut\n",
    "o3dtut.interactive = not 'CI' in os.environ\n"
   ]
  },
  {
   "cell_type": "code",
   "execution_count": 2,
   "metadata": {},
   "outputs": [
    {
     "data": {
      "text/plain": [
       "PointCloud with 1328541 points."
      ]
     },
     "execution_count": 2,
     "metadata": {},
     "output_type": "execute_result"
    }
   ],
   "source": [
    "pcd = o3d.io.read_point_cloud('./data/scan1/scan.ply')\n",
    "pcd"
   ]
  },
  {
   "cell_type": "code",
   "execution_count": 4,
   "metadata": {},
   "outputs": [],
   "source": [
    "o3d.visualization.draw_geometries([pcd],zoom=0.31,front = [0.4257, -0.2125, -0.8795],lookat = [2.6172, 2.0475, 1.532],up=[-0.0694, -0.9768, 0.2024])"
   ]
  },
  {
   "cell_type": "markdown",
   "metadata": {},
   "source": [
    "## Down Sampling the 3D model\n",
    "    To down sample we need voxel "
   ]
  },
  {
   "cell_type": "code",
   "execution_count": 5,
   "metadata": {},
   "outputs": [],
   "source": [
    "down_pcd = pcd.voxel_down_sample(voxel_size= 0.08)\n"
   ]
  },
  {
   "cell_type": "code",
   "execution_count": 6,
   "metadata": {},
   "outputs": [],
   "source": [
    "o3d.visualization.draw_geometries([down_pcd])"
   ]
  },
  {
   "cell_type": "markdown",
   "metadata": {},
   "source": [
    "## Normal Estimation   \n",
    "    Getting the normal estimation by using vectors "
   ]
  },
  {
   "cell_type": "code",
   "execution_count": 8,
   "metadata": {},
   "outputs": [],
   "source": [
    "down_pcd.estimate_normals(\n",
    "    search_param = o3d.geometry.KDTreeSearchParamHybrid(radius=0.1,max_nn = 30)\n",
    "\n",
    ")"
   ]
  },
  {
   "cell_type": "code",
   "execution_count": 12,
   "metadata": {},
   "outputs": [],
   "source": [
    "o3d.visualization.draw_geometries([down_pcd],point_show_normal=True)"
   ]
  },
  {
   "cell_type": "code",
   "execution_count": 19,
   "metadata": {},
   "outputs": [
    {
     "name": "stdout",
     "output_type": "stream",
     "text": [
      "[Open3D INFO] Downloading https://github.com/isl-org/open3d_downloads/releases/download/20220201-data/DemoCropPointCloud.zip\n",
      "[Open3D INFO] Downloaded to C:\\Users\\Developer/open3d_data/download/DemoCropPointCloud/DemoCropPointCloud.zip\n",
      "[Open3D INFO] Extracting C:\\Users\\Developer/open3d_data/download/DemoCropPointCloud/DemoCropPointCloud.zip.\n",
      "[Open3D INFO] Extracted to C:\\Users\\Developer/open3d_data/extract/DemoCropPointCloud.\n"
     ]
    }
   ],
   "source": [
    "demo_crop_data = o3d.data.DemoCropPointCloud()"
   ]
  },
  {
   "cell_type": "code",
   "execution_count": 21,
   "metadata": {},
   "outputs": [
    {
     "name": "stdout",
     "output_type": "stream",
     "text": [
      "C:\\Users\\Developer/open3d_data/extract/DemoCropPointCloud/fragment.ply\n"
     ]
    }
   ],
   "source": [
    "print(demo_crop_data.point_cloud_path)"
   ]
  },
  {
   "cell_type": "code",
   "execution_count": 32,
   "metadata": {},
   "outputs": [
    {
     "data": {
      "text/plain": [
       "array([[-0.59762314, -0.79162475, -0.1271882 ],\n",
       "       [ 0.1711642 ,  0.98238254,  0.07501575],\n",
       "       [ 0.03298343,  0.02249626,  0.99920269],\n",
       "       [ 0.0482346 ,  0.01802154,  0.99867344],\n",
       "       [-0.03687433, -0.00536559,  0.99930551],\n",
       "       [ 0.91011877,  0.32530686, -0.2566306 ],\n",
       "       [ 0.07737087, -0.43782468, -0.89572501],\n",
       "       [-0.20851167,  0.77858574,  0.59188439],\n",
       "       [ 0.30548716,  0.95150993,  0.03614487],\n",
       "       [ 0.17047128,  0.16627908,  0.97123159]])"
      ]
     },
     "execution_count": 32,
     "metadata": {},
     "output_type": "execute_result"
    }
   ],
   "source": [
    "np.asarray(down_pcd.normals)[:10]"
   ]
  },
  {
   "cell_type": "code",
   "execution_count": 51,
   "metadata": {},
   "outputs": [
    {
     "data": {
      "text/plain": [
       "PointCloud with 196133 points."
      ]
     },
     "execution_count": 51,
     "metadata": {},
     "output_type": "execute_result"
    }
   ],
   "source": [
    "chair   = o3d.io.read_point_cloud(demo_crop_data.point_cloud_path)\n",
    "chair  "
   ]
  },
  {
   "cell_type": "code",
   "execution_count": 52,
   "metadata": {},
   "outputs": [],
   "source": [
    "o3d.visualization.draw_geometries([chair])"
   ]
  },
  {
   "cell_type": "code",
   "execution_count": 53,
   "metadata": {},
   "outputs": [],
   "source": [
    "down_chair  =chair.voxel_down_sample(voxel_size = 0.06)"
   ]
  },
  {
   "cell_type": "code",
   "execution_count": 54,
   "metadata": {},
   "outputs": [
    {
     "name": "stdout",
     "output_type": "stream",
     "text": [
      "[Open3D WARNING] GLFW Error: WGL: Failed to make context current: The requested transformation operation is not supported. \n"
     ]
    }
   ],
   "source": [
    "o3d.visualization.draw_geometries([down_chair])"
   ]
  },
  {
   "cell_type": "code",
   "execution_count": 55,
   "metadata": {},
   "outputs": [],
   "source": [
    "down_chair.estimate_normals(\n",
    "    search_param = o3d.geometry.KDTreeSearchParamHybrid(radius=0.1,max_nn=30)\n",
    ")"
   ]
  },
  {
   "cell_type": "code",
   "execution_count": 56,
   "metadata": {},
   "outputs": [
    {
     "name": "stdout",
     "output_type": "stream",
     "text": [
      "[Open3D WARNING] GLFW Error: WGL: Failed to make context current: The handle is invalid. \n",
      "[Open3D WARNING] GLFW Error: WGL: Failed to make context current: The handle is invalid. \n"
     ]
    }
   ],
   "source": [
    "o3d.visualization.draw_geometries([down_chair],point_show_normal=True)"
   ]
  },
  {
   "cell_type": "code",
   "execution_count": 48,
   "metadata": {},
   "outputs": [],
   "source": [
    "vol = o3d.visualization.read_selection_polygon_volume(demo_crop_data.cropped_json_path)"
   ]
  },
  {
   "cell_type": "code",
   "execution_count": 49,
   "metadata": {},
   "outputs": [],
   "source": [
    "cropped_chair = vol.crop_point_cloud(down_chair)\n"
   ]
  },
  {
   "cell_type": "code",
   "execution_count": 50,
   "metadata": {},
   "outputs": [],
   "source": [
    "o3d.visualization.draw_geometries([cropped_chair])"
   ]
  },
  {
   "cell_type": "code",
   "execution_count": null,
   "metadata": {},
   "outputs": [],
   "source": []
  }
 ],
 "metadata": {
  "interpreter": {
   "hash": "fa0143f9c29f8c9e8f8a335d30e012e236d29d51dc9529c9c2cfa56891005d30"
  },
  "kernelspec": {
   "display_name": "Python 3.9.0 ('open3d': venv)",
   "language": "python",
   "name": "python3"
  },
  "language_info": {
   "codemirror_mode": {
    "name": "ipython",
    "version": 3
   },
   "file_extension": ".py",
   "mimetype": "text/x-python",
   "name": "python",
   "nbconvert_exporter": "python",
   "pygments_lexer": "ipython3",
   "version": "3.9.0"
  },
  "orig_nbformat": 4
 },
 "nbformat": 4,
 "nbformat_minor": 2
}
